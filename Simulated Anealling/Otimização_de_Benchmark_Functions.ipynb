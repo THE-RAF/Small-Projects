{
  "nbformat": 4,
  "nbformat_minor": 0,
  "metadata": {
    "colab": {
      "name": "Otimização de Benchmark Functions.ipynb",
      "provenance": []
    },
    "kernelspec": {
      "name": "python3",
      "display_name": "Python 3"
    },
    "language_info": {
      "name": "python"
    }
  },
  "cells": [
    {
      "cell_type": "markdown",
      "metadata": {
        "id": "inj6u2BRpb7A"
      },
      "source": [
        "# Otimização de  funções de benchmark utilizando Simulated Anealling e análise de dimensionalidade"
      ]
    },
    {
      "cell_type": "markdown",
      "metadata": {
        "id": "UsRChfX3plPu"
      },
      "source": [
        "### Rafael Brusiquesi Martins\n"
      ]
    },
    {
      "cell_type": "markdown",
      "metadata": {
        "id": "UZ8N3l-EpyKC"
      },
      "source": [
        "## Definição das bibliotecas de utilização e implementação do algoritmo"
      ]
    },
    {
      "cell_type": "code",
      "metadata": {
        "id": "VU_8Qlsyj88C"
      },
      "source": [
        "import numpy as np\n",
        "import matplotlib.pyplot as plt\n",
        "from matplotlib import style\n",
        "from copy import deepcopy\n",
        "style.use('seaborn')"
      ],
      "execution_count": 1,
      "outputs": []
    },
    {
      "cell_type": "code",
      "metadata": {
        "id": "4ImQRorykLHb"
      },
      "source": [
        "class SimulatedAnealling:\n",
        "    def __init__(self, dimension, initial_temperature, max_random_radius, low_boundaries=None, high_boundaries=None):\n",
        "        self.dimension = dimension\n",
        "        self.initial_temperature = initial_temperature\n",
        "        self.max_random_radius = max_random_radius\n",
        "\n",
        "        self.low_boundaries = np.full(self.dimension, -np.inf) if low_boundaries is None else low_boundaries\n",
        "        self.high_boundaries = np.full(self.dimension, np.inf) if high_boundaries is None else high_boundaries\n",
        "    \n",
        "    def new_guess(self, guess):\n",
        "        new_guess = deepcopy(guess)\n",
        "        new_guess += self.max_random_radius * np.random.uniform(-1, 1, size=self.dimension)\n",
        "\n",
        "        return new_guess\n",
        "    \n",
        "    def maximize(self, function, initial_guess, n_iterations=10000):\n",
        "        temperature = self.initial_temperature\n",
        "\n",
        "        guess = initial_guess\n",
        "        function_value = function(guess)\n",
        "        best_guess = deepcopy(guess)\n",
        "        \n",
        "        for i in range(n_iterations):\n",
        "            new_guess = np.clip(self.new_guess(guess), self.low_boundaries, self.high_boundaries)\n",
        "            new_function_value = function(new_guess)\n",
        "\n",
        "            if new_function_value > function_value:\n",
        "                guess = new_guess\n",
        "                function_value = new_function_value\n",
        "            \n",
        "            else:\n",
        "                criterion = np.exp(-(function_value - new_function_value)/temperature)\n",
        "                \n",
        "                if np.random.uniform() < criterion:\n",
        "                    guess = new_guess\n",
        "                    function_value = new_function_value\n",
        "            \n",
        "            if function_value > function(best_guess):\n",
        "                best_guess = deepcopy(guess)\n",
        "\n",
        "            temperature = self.initial_temperature / (i + 1)\n",
        "        \n",
        "        return best_guess\n",
        "    \n",
        "    def minimize(self, function, initial_guess, n_iterations=10000):\n",
        "        negative_function = lambda x: -function(x)\n",
        "\n",
        "        return self.maximize(negative_function, initial_guess, n_iterations)\n",
        "    \n",
        "    def multiple_restart_optimization(self, function, initial_guess, n_restarts, n_iterations=10000, operation='maximize'):\n",
        "        if operation == 'maximize':\n",
        "            ans = self.maximize(function, initial_guess, n_iterations=n_iterations)\n",
        "            for i in range(n_restarts):\n",
        "                ans = self.maximize(function, initial_guess=ans, n_iterations=n_iterations)\n",
        "\n",
        "        elif operation == 'minimize':\n",
        "            ans = self.minimize(function, initial_guess, n_iterations=n_iterations)\n",
        "            for i in range(n_restarts):\n",
        "                ans = self.minimize(function, initial_guess=ans, n_iterations=n_iterations)\n",
        "\n",
        "        else:\n",
        "            raise Exception('incorrect operation keyword')\n",
        "        \n",
        "        return ans\n"
      ],
      "execution_count": 2,
      "outputs": []
    },
    {
      "cell_type": "markdown",
      "metadata": {
        "id": "wVkuBdNUkXvY"
      },
      "source": [
        "## Definindo uma função de benchmark multimodal para testar a robustez do algoritmo de Simulated Anealling"
      ]
    },
    {
      "cell_type": "markdown",
      "metadata": {
        "id": "mHGOYB8gmOX3"
      },
      "source": [
        "Ponto de mínimo da função: [0]*len(x)"
      ]
    },
    {
      "cell_type": "markdown",
      "metadata": {
        "id": "kV-hF4X3k7X0"
      },
      "source": [
        "![image.png](data:image/png;base64,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)"
      ]
    },
    {
      "cell_type": "code",
      "metadata": {
        "id": "EjOWdESzkWti"
      },
      "source": [
        "def f(x):\n",
        "    return sum([abs(x_i*np.sin(x_i)+0.1*x_i) for x_i in x])"
      ],
      "execution_count": 3,
      "outputs": []
    },
    {
      "cell_type": "markdown",
      "metadata": {
        "id": "aEGueBWklhUx"
      },
      "source": [
        "## Simulação"
      ]
    },
    {
      "cell_type": "markdown",
      "metadata": {
        "id": "mk2yuNtJlCfm"
      },
      "source": [
        "Construindo um objeto do tipo SimulatedAnealling e definindo parâmetros de temperatura, dimensão e raio máximo de deslocamento aleatório por etapa. Aplicando a otimização pelo número de iterações desejadas para um chute inicial fornecido. Testando inicialmente para 5 dimensões."
      ]
    },
    {
      "cell_type": "code",
      "metadata": {
        "colab": {
          "base_uri": "https://localhost:8080/"
        },
        "id": "iUbMhnqZk-hK",
        "outputId": "74cba3e5-5db7-4b6c-f2e1-628a46b01bb8"
      },
      "source": [
        "SA = SimulatedAnealling(\n",
        "    dimension=5,\n",
        "    initial_temperature=10000,\n",
        "    max_random_radius=1 # tem a ver com o n de iterações ou talvez a temperatura\n",
        "    )\n",
        "\n",
        "ans = SA.minimize(f, initial_guess=np.ones(shape=SA.dimension), n_iterations=100000)\n",
        "print(ans, f(ans))"
      ],
      "execution_count": 4,
      "outputs": [
        {
          "output_type": "stream",
          "name": "stdout",
          "text": [
            "[ 0.01451657  0.1982609   9.52571643 -0.05288051  0.10184175] 0.09087755873366181\n"
          ]
        }
      ]
    },
    {
      "cell_type": "markdown",
      "metadata": {
        "id": "N9hZrP0wlwD9"
      },
      "source": [
        "Testando o modo de reinicialização iterativa de temperatura para aumentar a robustez e eficiência do algoritmo. utilizando o mesmo número de iterações totais (100*1000 = 100000)"
      ]
    },
    {
      "cell_type": "code",
      "metadata": {
        "colab": {
          "base_uri": "https://localhost:8080/"
        },
        "id": "R-ydDry6l-W5",
        "outputId": "2a86765c-db3b-43bf-e43e-3e2a99db8c78"
      },
      "source": [
        "ans = SA.multiple_restart_optimization(f, initial_guess=np.ones(shape=SA.dimension), n_restarts=100, n_iterations=1000, operation='minimize')\n",
        "print(ans, f(ans))"
      ],
      "execution_count": 5,
      "outputs": [
        {
          "output_type": "stream",
          "name": "stdout",
          "text": [
            "[ 0.3718596  -3.14838217 -3.0652735   0.17070734 -0.1078613 ] 0.6282257422605542\n"
          ]
        }
      ]
    },
    {
      "cell_type": "markdown",
      "metadata": {
        "id": "D13oxGNQmogL"
      },
      "source": [
        "Pode-se perceber, para os hiperparâmetros utilizados, que a função se aproxima mais do ponto ótimo com o uso da reinicialização iterativa."
      ]
    },
    {
      "cell_type": "markdown",
      "metadata": {
        "id": "3pH6vnrdnBZu"
      },
      "source": [
        "## Efeito do aumento de dimensionalidade"
      ]
    },
    {
      "cell_type": "code",
      "metadata": {
        "colab": {
          "base_uri": "https://localhost:8080/"
        },
        "id": "B_2-4r8MnFYu",
        "outputId": "f6614536-f637-497f-8285-0f293469290d"
      },
      "source": [
        "optimum_values = []\n",
        "for dimensions in range(1, 200):\n",
        "    SA = SimulatedAnealling(\n",
        "        dimension=dimensions,\n",
        "        initial_temperature=10000,\n",
        "        max_random_radius=1 # tem a ver com o n de iterações ou talvez a temperatura\n",
        "        )\n",
        "    ans = SA.multiple_restart_optimization(f, initial_guess=np.ones(shape=SA.dimension), n_restarts=10, n_iterations=1000, operation='minimize')\n",
        "    print(f'dimensions:{dimensions}', f(ans))\n",
        "    optimum_values.append(f(ans))"
      ],
      "execution_count": 6,
      "outputs": [
        {
          "output_type": "stream",
          "name": "stdout",
          "text": [
            "dimensions:1 5.90374309235979e-05\n",
            "dimensions:2 0.012212038060619972\n",
            "dimensions:3 0.2835594793450317\n",
            "dimensions:4 0.8381188104805909\n",
            "dimensions:5 1.006957663177178\n",
            "dimensions:6 0.7543672896241358\n",
            "dimensions:7 1.9804689608658486\n",
            "dimensions:8 3.3198139336340677\n",
            "dimensions:9 4.723957878658078\n",
            "dimensions:10 6.1233293281057195\n",
            "dimensions:11 8.744053883874335\n",
            "dimensions:12 4.322445523403628\n",
            "dimensions:13 8.486951333236899\n",
            "dimensions:14 8.226854404472347\n",
            "dimensions:15 6.254292188179511\n",
            "dimensions:16 9.847740040042412\n",
            "dimensions:17 11.175120131549498\n",
            "dimensions:18 9.552389286037183\n",
            "dimensions:19 5.851212592435161\n",
            "dimensions:20 17.141992384959213\n",
            "dimensions:21 14.939668031397126\n",
            "dimensions:22 16.931270861899264\n",
            "dimensions:23 16.145259623181563\n",
            "dimensions:24 13.50140279057928\n",
            "dimensions:25 15.790575296181109\n",
            "dimensions:26 17.208212918933267\n",
            "dimensions:27 19.14701330732702\n",
            "dimensions:28 21.045959061052738\n",
            "dimensions:29 22.547686047738466\n",
            "dimensions:30 26.679627508071867\n",
            "dimensions:31 21.198643731045372\n",
            "dimensions:32 20.054215698873943\n",
            "dimensions:33 24.956707911078503\n",
            "dimensions:34 24.663589750445237\n",
            "dimensions:35 22.000801685393206\n",
            "dimensions:36 24.820782896686293\n",
            "dimensions:37 27.63107095866291\n",
            "dimensions:38 32.281555989918644\n",
            "dimensions:39 24.965906572083558\n",
            "dimensions:40 31.310072205321735\n",
            "dimensions:41 32.45850945161157\n",
            "dimensions:42 33.613831577817464\n",
            "dimensions:43 36.059562186942195\n",
            "dimensions:44 32.7606230235588\n",
            "dimensions:45 25.07633708217639\n",
            "dimensions:46 33.1439643706591\n",
            "dimensions:47 39.9463348338156\n",
            "dimensions:48 34.09486881282026\n",
            "dimensions:49 43.64971720086702\n",
            "dimensions:50 38.05243702771074\n",
            "dimensions:51 41.19230386745356\n",
            "dimensions:52 38.16607004934562\n",
            "dimensions:53 32.815283066157384\n",
            "dimensions:54 42.630794120670714\n",
            "dimensions:55 40.38996873166267\n",
            "dimensions:56 45.896847911578604\n",
            "dimensions:57 43.595715627098365\n",
            "dimensions:58 48.46261350352941\n",
            "dimensions:59 48.78469518262338\n",
            "dimensions:60 51.37588400404466\n",
            "dimensions:61 47.28590346721023\n",
            "dimensions:62 53.35093441415338\n",
            "dimensions:63 52.21216475614072\n",
            "dimensions:64 58.31066644033252\n",
            "dimensions:65 52.35801112545637\n",
            "dimensions:66 48.45644515473845\n",
            "dimensions:67 49.421452955266226\n",
            "dimensions:68 55.65407011235185\n",
            "dimensions:69 64.57271414824892\n",
            "dimensions:70 60.864792197185956\n",
            "dimensions:71 58.36671081662091\n",
            "dimensions:72 64.07364612614613\n",
            "dimensions:73 59.13214949194861\n",
            "dimensions:74 57.94937153552317\n",
            "dimensions:75 58.970732910917\n",
            "dimensions:76 60.2872961951433\n",
            "dimensions:77 64.73398223633657\n",
            "dimensions:78 70.92020740357185\n",
            "dimensions:79 64.31076315784252\n",
            "dimensions:80 55.388444079055354\n",
            "dimensions:81 68.3537641556914\n",
            "dimensions:82 70.65351803260482\n",
            "dimensions:83 71.12125583821623\n",
            "dimensions:84 73.41111306591965\n",
            "dimensions:85 72.94325557069702\n",
            "dimensions:86 78.18792850026918\n",
            "dimensions:87 65.36888589042705\n",
            "dimensions:88 80.9099750227327\n",
            "dimensions:89 71.9860747617303\n",
            "dimensions:90 74.5038247613492\n",
            "dimensions:91 73.72800080037108\n",
            "dimensions:92 75.5950151344224\n",
            "dimensions:93 81.02050457866632\n",
            "dimensions:94 83.1515631071048\n",
            "dimensions:95 70.87300249212703\n",
            "dimensions:96 73.42573197669299\n",
            "dimensions:97 82.04455129080074\n",
            "dimensions:98 84.44309173327034\n",
            "dimensions:99 80.57670086284043\n",
            "dimensions:100 84.83875221959285\n",
            "dimensions:101 80.99930517955148\n",
            "dimensions:102 92.05869196604392\n",
            "dimensions:103 87.08176975379676\n",
            "dimensions:104 85.79396465143061\n",
            "dimensions:105 93.34338695359554\n",
            "dimensions:106 89.71302866220178\n",
            "dimensions:107 76.35687949515034\n",
            "dimensions:108 91.6512074415308\n",
            "dimensions:109 79.10314308225695\n",
            "dimensions:110 87.10235461858883\n",
            "dimensions:111 88.29393771920628\n",
            "dimensions:112 97.14081406458273\n",
            "dimensions:113 97.48223792686403\n",
            "dimensions:114 87.37141748156218\n",
            "dimensions:115 103.13551171332404\n",
            "dimensions:116 94.47324055472704\n",
            "dimensions:117 103.7642970059919\n",
            "dimensions:118 100.06550205425503\n",
            "dimensions:119 88.28125527605576\n",
            "dimensions:120 104.23807457420958\n",
            "dimensions:121 104.74645763292581\n",
            "dimensions:122 107.95530913570003\n",
            "dimensions:123 103.55716454131097\n",
            "dimensions:124 95.33096797615374\n",
            "dimensions:125 111.42498198264803\n",
            "dimensions:126 110.14321533354713\n",
            "dimensions:127 109.31750809310407\n",
            "dimensions:128 100.4756507299418\n",
            "dimensions:129 108.70521539718304\n",
            "dimensions:130 115.0653045566841\n",
            "dimensions:131 114.032795734839\n",
            "dimensions:132 115.90646221829716\n",
            "dimensions:133 111.65359382795141\n",
            "dimensions:134 109.61891448073973\n",
            "dimensions:135 118.0172839367124\n",
            "dimensions:136 115.1351083970295\n",
            "dimensions:137 126.48485411067942\n",
            "dimensions:138 110.38958359540636\n",
            "dimensions:139 119.84274608027062\n",
            "dimensions:140 107.65715021016074\n",
            "dimensions:141 106.22222830707975\n",
            "dimensions:142 116.79737656576414\n",
            "dimensions:143 127.09787065041036\n",
            "dimensions:144 115.5867890814086\n",
            "dimensions:145 125.01945261722578\n",
            "dimensions:146 120.07208328676857\n",
            "dimensions:147 116.24683957148949\n",
            "dimensions:148 134.85590177085223\n",
            "dimensions:149 138.41745454156688\n",
            "dimensions:150 137.70631499219533\n",
            "dimensions:151 129.7661457906974\n",
            "dimensions:152 120.68319127365355\n",
            "dimensions:153 138.72166704417296\n",
            "dimensions:154 125.89304459707253\n",
            "dimensions:155 143.59645008805873\n",
            "dimensions:156 137.69376539489625\n",
            "dimensions:157 135.42361370210762\n",
            "dimensions:158 127.04377305776163\n",
            "dimensions:159 126.87184906851061\n",
            "dimensions:160 117.14386702220335\n",
            "dimensions:161 135.64053290716626\n",
            "dimensions:162 138.21066103661607\n",
            "dimensions:163 137.61532071291964\n",
            "dimensions:164 134.83419565985346\n",
            "dimensions:165 137.10326309935746\n",
            "dimensions:166 136.85060014177506\n",
            "dimensions:167 144.68956780487883\n",
            "dimensions:168 140.43250307670633\n",
            "dimensions:169 155.4860814649657\n",
            "dimensions:170 143.87951477232525\n",
            "dimensions:171 144.25657455060858\n",
            "dimensions:172 146.29423012845066\n",
            "dimensions:173 139.44362428516683\n",
            "dimensions:174 142.9822531188491\n",
            "dimensions:175 154.07730390569182\n",
            "dimensions:176 151.5932509447173\n",
            "dimensions:177 160.61972657162286\n",
            "dimensions:178 157.68265858894623\n",
            "dimensions:179 152.57172806862997\n",
            "dimensions:180 151.05402009597952\n",
            "dimensions:181 162.54406418310325\n",
            "dimensions:182 169.76822479070483\n",
            "dimensions:183 152.26214561426985\n",
            "dimensions:184 150.77685859334568\n",
            "dimensions:185 158.63525583837992\n",
            "dimensions:186 165.80353245427617\n",
            "dimensions:187 167.49590203961935\n",
            "dimensions:188 175.26732722712188\n",
            "dimensions:189 163.9013423387149\n",
            "dimensions:190 159.71758515869928\n",
            "dimensions:191 173.0328148886466\n",
            "dimensions:192 174.92651494397793\n",
            "dimensions:193 160.0217151784511\n",
            "dimensions:194 168.9192953497849\n",
            "dimensions:195 175.10825119335433\n",
            "dimensions:196 161.3880660177298\n",
            "dimensions:197 163.32284689548132\n",
            "dimensions:198 175.48177811357485\n",
            "dimensions:199 176.19743014570685\n"
          ]
        }
      ]
    },
    {
      "cell_type": "markdown",
      "metadata": {
        "id": "QDK-_TBCvTw5"
      },
      "source": [
        "Plotando o valor do ponto ótimo encontrado pelo algoritmo em função de até 200 dimensões."
      ]
    },
    {
      "cell_type": "code",
      "metadata": {
        "colab": {
          "base_uri": "https://localhost:8080/",
          "height": 265
        },
        "id": "OF3h4Av1nb0j",
        "outputId": "2abab052-69e2-4f28-f28e-029edd130324"
      },
      "source": [
        "plot = plt.plot(optimum_values)"
      ],
      "execution_count": 7,
      "outputs": [
        {
          "output_type": "display_data",
          "data": {
            "image/png": "[encoded data removed]",
            "text/plain": [
              "<Figure size 432x288 with 1 Axes>"
            ]
          },
          "metadata": {
            "needs_background": "light"
          }
        }
      ]
    },
    {
      "cell_type": "markdown",
      "metadata": {
        "id": "5nBm9Lzzoa41"
      },
      "source": [
        "Pode-se perceber que o aumento da dimensionalidade do problema representa um grande desafio a ser tomado com relação aos algoritmos de otimização, pois o espaço de busca aumenta consideravelmente com o aumento do número de dimensões do problema, causando maior distância ao ponto de ótimo e mais estocasticidade do resultado do algoritmo, dificultando o encontro do ponto ótimo do problema, é o que se denomina \"Maldição da Dimensionalidade\". O qual deve ser avaliado com atenção, pois grande parte dos problemas de grande interesse atualmente, em geral, possuem dimensionalidade muito alta."
      ]
    }
  ]
}
