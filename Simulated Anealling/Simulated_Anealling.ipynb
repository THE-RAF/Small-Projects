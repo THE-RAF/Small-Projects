{
  "nbformat": 4,
  "nbformat_minor": 0,
  "metadata": {
    "colab": {
      "name": "Simulated Anealling.ipynb",
      "provenance": []
    },
    "kernelspec": {
      "name": "python3",
      "display_name": "Python 3"
    },
    "language_info": {
      "name": "python"
    }
  },
  "cells": [
    {
      "cell_type": "markdown",
      "metadata": {
        "id": "X6hqgyahqi8h"
      },
      "source": [
        "# Implementação do algoritmo de otimização Simulated Anealling"
      ]
    },
    {
      "cell_type": "markdown",
      "metadata": {
        "id": "UJaUroWOquN2"
      },
      "source": [
        "### Rafael Brusiquesi Martins"
      ]
    },
    {
      "cell_type": "markdown",
      "metadata": {
        "id": "s1pKswuZq1w6"
      },
      "source": [
        "## Importando bibliotecas"
      ]
    },
    {
      "cell_type": "code",
      "metadata": {
        "id": "5nTvTCa8y0MC"
      },
      "source": [
        "import numpy as np\n",
        "from copy import deepcopy"
      ],
      "execution_count": 1,
      "outputs": []
    },
    {
      "cell_type": "markdown",
      "metadata": {
        "id": "NqTV0CwncAK2"
      },
      "source": [
        "## Definindo a classe SimulatedAnealling para aplicar o algoritmo de otimização proposto."
      ]
    },
    {
      "cell_type": "code",
      "metadata": {
        "id": "aXeJhGI7yb2_"
      },
      "source": [
        "class SimulatedAnealling:\n",
        "    def __init__(self, dimension, initial_temperature, max_random_radius, low_boundaries=None, high_boundaries=None):\n",
        "        self.dimension = dimension\n",
        "        self.initial_temperature = initial_temperature\n",
        "        self.max_random_radius = max_random_radius\n",
        "\n",
        "        self.low_boundaries = np.full(self.dimension, -np.inf) if low_boundaries is None else low_boundaries\n",
        "        self.high_boundaries = np.full(self.dimension, np.inf) if high_boundaries is None else high_boundaries\n",
        "    \n",
        "    def new_guess(self, guess):\n",
        "        new_guess = deepcopy(guess)\n",
        "        new_guess += self.max_random_radius * np.random.uniform(-1, 1, size=self.dimension)\n",
        "\n",
        "        return new_guess\n",
        "    \n",
        "    def maximize(self, function, initial_guess, n_iterations=10000):\n",
        "        temperature = self.initial_temperature\n",
        "\n",
        "        guess = initial_guess\n",
        "        function_value = function(guess)\n",
        "        best_guess = deepcopy(guess)\n",
        "        \n",
        "        for i in range(n_iterations):\n",
        "            new_guess = np.clip(self.new_guess(guess), self.low_boundaries, self.high_boundaries)\n",
        "            new_function_value = function(new_guess)\n",
        "\n",
        "            if new_function_value > function_value:\n",
        "                guess = new_guess\n",
        "                function_value = new_function_value\n",
        "            \n",
        "            else:\n",
        "                criterion = np.exp(-(function_value - new_function_value)/temperature)\n",
        "                \n",
        "                if np.random.uniform() < criterion:\n",
        "                    guess = new_guess\n",
        "                    function_value = new_function_value\n",
        "            \n",
        "            if function_value > function(best_guess):\n",
        "                best_guess = deepcopy(guess)\n",
        "\n",
        "            temperature = self.initial_temperature / (i + 1)\n",
        "        \n",
        "        return best_guess\n",
        "    \n",
        "    def minimize(self, function, initial_guess, n_iterations=10000):\n",
        "        negative_function = lambda x: -function(x)\n",
        "\n",
        "        return self.maximize(negative_function, initial_guess, n_iterations)\n",
        "    \n",
        "    def multiple_restart_optimization(self, function, initial_guess, n_restarts, n_iterations=10000, operation='maximize'):\n",
        "        if operation == 'maximize':\n",
        "            ans = self.maximize(function, initial_guess, n_iterations=n_iterations)\n",
        "            for i in range(n_restarts):\n",
        "                ans = self.maximize(function, initial_guess=ans, n_iterations=n_iterations)\n",
        "\n",
        "        elif operation == 'minimize':\n",
        "            ans = self.minimize(function, initial_guess, n_iterations=n_iterations)\n",
        "            for i in range(n_restarts):\n",
        "                ans = self.minimize(function, initial_guess=ans, n_iterations=n_iterations)\n",
        "\n",
        "        else:\n",
        "            raise Exception('incorrect operation keyword')\n",
        "        \n",
        "        return ans\n"
      ],
      "execution_count": 2,
      "outputs": []
    },
    {
      "cell_type": "markdown",
      "metadata": {
        "id": "t8QtEY78cMED"
      },
      "source": [
        "## Definindo uma função de teste para o algoritmo."
      ]
    },
    {
      "cell_type": "code",
      "metadata": {
        "id": "hCH2uqhj1BqV"
      },
      "source": [
        "def f(x):\n",
        "    return np.sin(x[0]) + np.cos(x[1]) - 0.002 * x[0]**2 - 0.002 * x[1]**2"
      ],
      "execution_count": 3,
      "outputs": []
    },
    {
      "cell_type": "markdown",
      "metadata": {
        "id": "IJKSXW4WcS9q"
      },
      "source": [
        "Construindo um objeto do tipo SimulatedAnealling e definindo parâmetros de temperatura, dimensão e raio máximo de deslocamento aleatório por etapa.\n",
        "Aplicando a otimização pelo número de iterações desejadas para um chute inicial fornecido."
      ]
    },
    {
      "cell_type": "code",
      "metadata": {
        "colab": {
          "base_uri": "https://localhost:8080/"
        },
        "id": "P27X7lKJzx14",
        "outputId": "26bea0d1-6552-4e6a-f5fd-c2844e8dce03"
      },
      "source": [
        "SA = SimulatedAnealling(\n",
        "    dimension=2,\n",
        "    initial_temperature=10000,\n",
        "    max_random_radius=1\n",
        "    )\n",
        "\n",
        "ans = SA.maximize(f, initial_guess=np.ones(shape=SA.dimension), n_iterations=100000)\n",
        "print(ans, f(ans))"
      ],
      "execution_count": 4,
      "outputs": [
        {
          "output_type": "stream",
          "name": "stdout",
          "text": [
            "[ 1.47424216 -0.10639476] 1.9853182619351644\n"
          ]
        }
      ]
    },
    {
      "cell_type": "markdown",
      "metadata": {
        "id": "5K9Z94Uir2h2"
      },
      "source": [
        "Com este teste pode-se perceber que o algoritmo se apresenta bem robusto para encontrar soluções no espaço bidimensional, visto que a função objetivo utilizada possui característica de multiplicidade de ótimos locais e valores bem próximos entre eles, mas ainda assim, o algoritmo conseguiu se aproximar ao ótimo global. Uma opção para atingir o ponto de ótimo global seria aplicar um algoritmo de gradiente descendente/ascendente a partir do resultado obtido pelo recozimento simulado."
      ]
    }
  ]
}
